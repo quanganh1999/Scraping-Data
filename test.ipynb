{
 "cells": [
  {
   "cell_type": "code",
   "execution_count": 1,
   "metadata": {},
   "outputs": [],
   "source": [
    "import sys"
   ]
  },
  {
   "cell_type": "markdown",
   "metadata": {},
   "source": [
    "Import pandas for using data"
   ]
  },
  {
   "cell_type": "code",
   "execution_count": 2,
   "metadata": {
    "collapsed": true
   },
   "outputs": [
    {
     "name": "stdout",
     "output_type": "stream",
     "text": [
      "Requirement already satisfied: pandas in c:\\users\\admin\\pyspark\\venv\\lib\\site-packages (0.25.0)\n",
      "Requirement already satisfied: numpy>=1.13.3 in c:\\users\\admin\\pyspark\\venv\\lib\\site-packages (from pandas) (1.17.0)\n",
      "Requirement already satisfied: pytz>=2017.2 in c:\\users\\admin\\pyspark\\venv\\lib\\site-packages (from pandas) (2019.2)\n",
      "Requirement already satisfied: python-dateutil>=2.6.1 in c:\\users\\admin\\pyspark\\venv\\lib\\site-packages (from pandas) (2.8.0)\n",
      "Requirement already satisfied: six>=1.5 in c:\\users\\admin\\pyspark\\venv\\lib\\site-packages (from python-dateutil>=2.6.1->pandas) (1.12.0)\n"
     ]
    }
   ],
   "source": [
    "!{sys.executable} -m pip install pandas"
   ]
  },
  {
   "cell_type": "markdown",
   "metadata": {},
   "source": [
    "Install requests for interacting with web sever"
   ]
  },
  {
   "cell_type": "code",
   "execution_count": 3,
   "metadata": {
    "collapsed": true
   },
   "outputs": [
    {
     "name": "stdout",
     "output_type": "stream",
     "text": [
      "Collecting request\n",
      "  Downloading request-2019.4.13.tar.gz (1.3 kB)\n",
      "Collecting get\n",
      "  Downloading get-2019.4.13.tar.gz (1.3 kB)\n",
      "Collecting post\n",
      "  Downloading post-2019.4.13.tar.gz (1.3 kB)\n",
      "Requirement already satisfied: setuptools in c:\\users\\admin\\pyspark\\venv\\lib\\site-packages (from request) (41.4.0)\n",
      "Collecting query_string\n",
      "  Downloading query-string-2019.4.13.tar.gz (1.6 kB)\n",
      "Collecting public\n",
      "  Downloading public-2019.4.13.tar.gz (2.3 kB)\n",
      "Building wheels for collected packages: request, get, post, query-string, public\n",
      "  Building wheel for request (setup.py): started\n",
      "  Building wheel for request (setup.py): finished with status 'done'\n",
      "  Created wheel for request: filename=request-2019.4.13-py3-none-any.whl size=1681 sha256=e998fd1d69883252ef2d5c2036a154cd241bb093210756e01c7665f9c498be78\n",
      "  Stored in directory: c:\\users\\admin\\appdata\\local\\pip\\cache\\wheels\\64\\72\\88\\16c724a5bf835bcbc97d530afe0e4bbe73d3e931664cc3d3a6\n",
      "  Building wheel for get (setup.py): started\n",
      "  Building wheel for get (setup.py): finished with status 'done'\n",
      "  Created wheel for get: filename=get-2019.4.13-py3-none-any.whl size=1696 sha256=d241a67f6d31a8960b9b777b32b9f93fc95d35a6d49aa2087f22ef4a78cedb7a\n",
      "  Stored in directory: c:\\users\\admin\\appdata\\local\\pip\\cache\\wheels\\bc\\27\\df\\d886645ae9f701489e8249b93e97101894d1ed50a1bdb8eac2\n",
      "  Building wheel for post (setup.py): started\n",
      "  Building wheel for post (setup.py): finished with status 'done'\n",
      "  Created wheel for post: filename=post-2019.4.13-py3-none-any.whl size=1665 sha256=5290ca8f9d136d1a697131e257b3c614b809488a769b131afa8b67f046c2f7ce\n",
      "  Stored in directory: c:\\users\\admin\\appdata\\local\\pip\\cache\\wheels\\9f\\d3\\34\\b0a3214e4fa22b3020c45c3d89200b67220c80095d345403e3\n",
      "  Building wheel for query-string (setup.py): started\n",
      "  Building wheel for query-string (setup.py): finished with status 'done'\n",
      "  Created wheel for query-string: filename=query_string-2019.4.13-py3-none-any.whl size=2055 sha256=fa8716876ea834c3ed01ad3e4ec3aa50d2146653892d7f408de4dc193a9135a2\n",
      "  Stored in directory: c:\\users\\admin\\appdata\\local\\pip\\cache\\wheels\\e5\\ab\\b1\\9ca74f01aff33324a9e175fe2a8c140725f60548d127574690\n",
      "  Building wheel for public (setup.py): started\n",
      "  Building wheel for public (setup.py): finished with status 'done'\n",
      "  Created wheel for public: filename=public-2019.4.13-py3-none-any.whl size=2538 sha256=438369b383d5480e1f9459d176857368ae350718ec725c5c42fb9c68ba2030e6\n",
      "  Stored in directory: c:\\users\\admin\\appdata\\local\\pip\\cache\\wheels\\db\\69\\b3\\c0c7fb2ce5d44ed3d09b495462799b0360ea86303197a924fb\n",
      "Successfully built request get post query-string public\n",
      "Installing collected packages: public, query-string, get, post, request\n",
      "Successfully installed get-2019.4.13 post-2019.4.13 public-2019.4.13 query-string-2019.4.13 request-2019.4.13\n"
     ]
    }
   ],
   "source": [
    "!{sys.executable} -m pip install request"
   ]
  },
  {
   "cell_type": "markdown",
   "metadata": {},
   "source": [
    "Install beautifulsoup4 and html5lib for parsing html"
   ]
  },
  {
   "cell_type": "code",
   "execution_count": 5,
   "metadata": {
    "collapsed": true
   },
   "outputs": [
    {
     "name": "stdout",
     "output_type": "stream",
     "text": [
      "Requirement already satisfied: BeautifulSoup4 in c:\\users\\admin\\pyspark\\venv\\lib\\site-packages (4.8.2)\n",
      "Requirement already satisfied: soupsieve>=1.2 in c:\\users\\admin\\pyspark\\venv\\lib\\site-packages (from BeautifulSoup4) (1.9.5)\n",
      "Collecting html5lib\n",
      "  Downloading html5lib-1.0.1-py2.py3-none-any.whl (117 kB)\n",
      "Requirement already satisfied: six>=1.9 in c:\\users\\admin\\pyspark\\venv\\lib\\site-packages (from html5lib) (1.12.0)\n",
      "Requirement already satisfied: webencodings in c:\\users\\admin\\pyspark\\venv\\lib\\site-packages (from html5lib) (0.5.1)\n",
      "Installing collected packages: html5lib\n",
      "Successfully installed html5lib-1.0.1\n"
     ]
    }
   ],
   "source": [
    "!{sys.executable} -m pip install BeautifulSoup4\n",
    "!{sys.executable} -m pip install html5lib"
   ]
  },
  {
   "cell_type": "markdown",
   "metadata": {},
   "source": [
    "Install peewee and pymysql for connecting to DB"
   ]
  },
  {
   "cell_type": "code",
   "execution_count": null,
   "metadata": {},
   "outputs": [],
   "source": [
    "!{sys.executable} -m pip install peewee\n",
    "!{sys.executable} -m pip install pymysql"
   ]
  },
  {
   "cell_type": "markdown",
   "metadata": {},
   "source": [
    "Test requests"
   ]
  },
  {
   "cell_type": "code",
   "execution_count": 4,
   "metadata": {
    "collapsed": true
   },
   "outputs": [
    {
     "name": "stdout",
     "output_type": "stream",
     "text": [
      "Success!\n"
     ]
    }
   ],
   "source": [
    "import requests as rq\n",
    "url = \"https://vnexpress.net/tin-tuc/giao-duc\"\n",
    "response = rq.get(url)\n",
    "if response:\n",
    "    print('Success!')\n",
    "else:\n",
    "    print('An error has occurred.')"
   ]
  },
  {
   "cell_type": "code",
   "execution_count": 6,
   "metadata": {},
   "outputs": [],
   "source": [
    "from bs4 import BeautifulSoup\n",
    "import re"
   ]
  },
  {
   "cell_type": "code",
   "execution_count": 9,
   "metadata": {},
   "outputs": [],
   "source": [
    "#Getting content\n",
    "def getContent(url):\n",
    "    result = \"\"\n",
    "    response = rq.get(url)\n",
    "    if(response):\n",
    "        resHtml = BeautifulSoup(response.content, 'html5lib') \n",
    "        content = resHtml.find_all('section', class_ = 'sidebar_1')\n",
    "        if(len(content) == 0):\n",
    "            return \"No content\"\n",
    "        paragr = content[0].find_all('p', class_ = re.compile(\"Normal|description\"))\n",
    "        for cktext in paragr:\n",
    "            result += cktext.text\n",
    "        return result\n",
    "    else:\n",
    "        return \"Fail to connect\""
   ]
  },
  {
   "cell_type": "code",
   "execution_count": 11,
   "metadata": {},
   "outputs": [],
   "source": [
    "import peewee\n",
    "from peewee import *"
   ]
  },
  {
   "cell_type": "code",
   "execution_count": 101,
   "metadata": {},
   "outputs": [],
   "source": [
    "mysql_db = MySQLDatabase('news', user='root', password='25012000',\n",
    "                         host='localhost', port=3306)"
   ]
  },
  {
   "cell_type": "code",
   "execution_count": 102,
   "metadata": {},
   "outputs": [],
   "source": [
    "#Creating table and connection \n",
    "class MySQLModel(peewee.Model):\n",
    "    \"\"\"A base model that will use our MySQL database\"\"\"\n",
    "    class Meta:\n",
    "        database = mysql_db\n",
    "class eduNew(MySQLModel):\n",
    "    news_title = CharField()\n",
    "    news_content = TextField()\n",
    "    class Meta:\n",
    "        db_table = 'edunew'\n",
    "mysql_db.connect(reuse_if_open = True)\n",
    "eduNew.create_table()"
   ]
  },
  {
   "cell_type": "markdown",
   "metadata": {},
   "source": [
    "Main function"
   ]
  },
  {
   "cell_type": "code",
   "execution_count": 103,
   "metadata": {
    "collapsed": true
   },
   "outputs": [
    {
     "name": "stdout",
     "output_type": "stream",
     "text": [
      "Năm câu đố logic Toán học\n",
      "Giải pháp nào khi học sinh nghỉ kéo dài?\n",
      "Thành ngữ tiếng Anh liên quan đến mùa đông\n",
      "Lớp học xóa mù chữ ở bản người Khơ Mú\n",
      "Giúp con hình thành thói quen đúng giờ\n",
      "Thần đồng IQ 145 muốn học ở Israel\n",
      "Cuộc sống của sinh viên quốc tế ở vùng dịch corona\n",
      "10 điều sinh viên quốc tế ở Canada cần biết\n",
      "Năm câu đố tìm điểm khác biệt\n",
      "Những câu trả lời phỏng vấn tuyển dụng mất điểm\n",
      "Đảo lộn kế hoạch thi cử vì dịch corona\n",
      "Bốn cặp từ người Việt thường nhấn sai trọng âm\n",
      "Điều chế nước sát khuẩn cho sinh viên\n",
      "63 địa phương kéo dài kỳ nghỉ cho học sinh\n",
      "Đáp án bài toán IMSO do Malaysia đề nghị\n",
      "Đại học Điện lực tuyển gần 3.500 chỉ tiêu\n",
      "Hậu quả khi giám sát con thái quá\n",
      "Bến Tre cho học sinh nghỉ học\n",
      "Học sinh Hà Nội nghỉ hết 16/2\n",
      "Nữ sinh nhiễm nCoV tiếp xúc nhiều bạn học\n",
      "Hơn 21.000 học sinh Bến Tre không đến lớp\n",
      "Học sinh điều chế dung dịch sát khuẩn\n",
      "Giúp học trò nghèo từ di nguyện của cha\n",
      "Thầy giáo dạy qua video vì bị cách ly\n",
      "10 cách diễn đạt chủ đề mùa đông\n",
      "Dạy con cách tìm đường không cần GPS\n",
      "Thầy giáo chế dung dịch sát khuẩn tặng người dân\n",
      "Bài tập về trạng từ phủ định trong tiếng Anh\n",
      "Trí tuệ nhân tạo hỗ trợ dự báo dịch nCoV\n",
      "TP HCM đề xuất cho học sinh nghỉ thêm một tuần\n",
      "Học sinh TP HCM được nghỉ thêm một tuần\n",
      "Tìm điểm bất hợp lý trong năm bức tranh\n",
      "Học sinh Hà Nội có thể được nghỉ thêm một tuần\n",
      "Học sinh Bến Tre vẫn đến trường\n",
      "Thầy giáo đi 'bắt' học sinh mỗi ngày\n",
      "40 năm 'đưa đò' của ông giáo ở Sài Gòn\n",
      "Thầy giáo gần 15 năm dạy trẻ mầm non\n",
      "Thầy giáo Toán trở thành giáo sư trẻ nhất năm 2019\n",
      "Hơn 100.000 học sinh đăng ký học trực tuyến tránh dịch Corona\n",
      "Coursera ra mắt bằng cử nhân trực tuyến đầu tiên của Mỹ\n",
      "Mở cổng học trực tuyến miễn phí cho học sinh\n",
      "500 học sinh học chương trình đại học công nghệ tại FUNiX\n",
      "YOLA mở lớp học tiếng Anh trực tuyến\n",
      "Ba đại học, học viện công bố phương án tuyển sinh\n",
      "Đại học Công nghiệp Hà Nội miễn 100% học phí cho thủ khoa\n",
      "Đại học Mỏ - Địa chất mở 5 ngành mới\n",
      "Chương trình trại hè Mỹ 'Discover Your Future'\n",
      "Sự kiện phỏng vấn học bổng du học trực tuyến Visco tháng 2\n",
      "Ba lý do du học châu Á\n",
      "Hội thảo du học Anh, Mỹ 2020\n",
      "Quốc gia nào rộng nhất châu Á?\n",
      "Năm trường THPT nào được công nhận di tích?\n",
      "Tìm hiểu những cái nhất ở châu Âu\n",
      "Làng cổ nào ở Hà Nội nổi tiếng với nghề nuôi bắt rắn?\n",
      "Cách chuyển tài liệu bản Word sang PDF\n",
      "Một số tổ hợp phím tắt hữu dụng trong Excel\n",
      "Finished\n",
      "Closed connection with DB\n"
     ]
    }
   ],
   "source": [
    "soup = BeautifulSoup(response.content, 'html5lib') \n",
    "soup = soup.find('body')\n",
    "soup_new = soup.find_all('a', href = re.compile(\"vnexpress\\.net\\/giao-duc\"), title = re.compile(\"\\w\"))\n",
    "for i in range (len(soup_new)):\n",
    "    #Checking duplicate by using title\n",
    "    title = soup_new[i]['title']\n",
    "    query = eduNew.select().where(eduNew.news_title == title)\n",
    "    if query.exists():\n",
    "        continue\n",
    "        \n",
    "    content = getContent(soup_new[i]['href'])\n",
    "    #Checking content\n",
    "    if content in [\"No content\", \"Fail to connect\"]:\n",
    "        continue\n",
    "        \n",
    "    #Adding to database\n",
    "    objAdd = eduNew.create(news_title = title, news_content = content)\n",
    "    objAdd.save()\n",
    "    print(title)#for debugging\n",
    "print(\"Finished\")\n",
    "if mysql_db.close():\n",
    "    print(\"Closed connection with DB\")"
   ]
  },
  {
   "cell_type": "code",
   "execution_count": null,
   "metadata": {},
   "outputs": [],
   "source": []
  }
 ],
 "metadata": {
  "celltoolbar": "Raw Cell Format",
  "kernelspec": {
   "display_name": "Python 3",
   "language": "python",
   "name": "python3"
  },
  "language_info": {
   "codemirror_mode": {
    "name": "ipython",
    "version": 3
   },
   "file_extension": ".py",
   "mimetype": "text/x-python",
   "name": "python",
   "nbconvert_exporter": "python",
   "pygments_lexer": "ipython3",
   "version": "3.7.0"
  }
 },
 "nbformat": 4,
 "nbformat_minor": 4
}
