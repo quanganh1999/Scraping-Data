{
 "cells": [
  {
   "cell_type": "code",
   "execution_count": 1,
   "metadata": {},
   "outputs": [],
   "source": [
    "import sys"
   ]
  },
  {
   "cell_type": "markdown",
   "metadata": {},
   "source": [
    "Import pandas for using data"
   ]
  },
  {
   "cell_type": "code",
   "execution_count": 2,
   "metadata": {},
   "outputs": [
    {
     "name": "stdout",
     "output_type": "stream",
     "text": [
      "Requirement already satisfied: pandas in c:\\users\\cntt\\appdata\\local\\programs\\python\\python38-32\\lib\\site-packages (1.0.0)\n",
      "Requirement already satisfied: pytz>=2017.2 in c:\\users\\cntt\\appdata\\local\\programs\\python\\python38-32\\lib\\site-packages (from pandas) (2019.3)\n",
      "Requirement already satisfied: python-dateutil>=2.6.1 in c:\\users\\cntt\\appdata\\local\\programs\\python\\python38-32\\lib\\site-packages (from pandas) (2.8.1)\n",
      "Requirement already satisfied: numpy>=1.13.3 in c:\\users\\cntt\\appdata\\local\\programs\\python\\python38-32\\lib\\site-packages (from pandas) (1.18.1)\n",
      "Requirement already satisfied: six>=1.5 in c:\\users\\cntt\\appdata\\local\\programs\\python\\python38-32\\lib\\site-packages (from python-dateutil>=2.6.1->pandas) (1.14.0)\n"
     ]
    }
   ],
   "source": [
    "!{sys.executable} -m pip install pandas"
   ]
  },
  {
   "cell_type": "markdown",
   "metadata": {},
   "source": [
    "Install requests for interacting with web sever"
   ]
  },
  {
   "cell_type": "code",
   "execution_count": 3,
   "metadata": {},
   "outputs": [
    {
     "name": "stdout",
     "output_type": "stream",
     "text": [
      "Requirement already satisfied: request in c:\\users\\cntt\\appdata\\local\\programs\\python\\python38-32\\lib\\site-packages (2019.4.13)\n",
      "Requirement already satisfied: get in c:\\users\\cntt\\appdata\\local\\programs\\python\\python38-32\\lib\\site-packages (from request) (2019.4.13)\n",
      "Requirement already satisfied: post in c:\\users\\cntt\\appdata\\local\\programs\\python\\python38-32\\lib\\site-packages (from request) (2019.4.13)\n",
      "Requirement already satisfied: setuptools in c:\\users\\cntt\\appdata\\local\\programs\\python\\python38-32\\lib\\site-packages (from request) (45.1.0)\n",
      "Requirement already satisfied: query_string in c:\\users\\cntt\\appdata\\local\\programs\\python\\python38-32\\lib\\site-packages (from get->request) (2019.4.13)\n",
      "Requirement already satisfied: public in c:\\users\\cntt\\appdata\\local\\programs\\python\\python38-32\\lib\\site-packages (from query_string->get->request) (2019.4.13)\n"
     ]
    }
   ],
   "source": [
    "!{sys.executable} -m pip install request"
   ]
  },
  {
   "cell_type": "markdown",
   "metadata": {},
   "source": [
    "Test requests"
   ]
  },
  {
   "cell_type": "code",
   "execution_count": 4,
   "metadata": {},
   "outputs": [
    {
     "name": "stdout",
     "output_type": "stream",
     "text": [
      "Success!\n"
     ]
    }
   ],
   "source": [
    "import requests as rq\n",
    "url = \"https://vnexpress.net/tin-tuc/giao-duc\"\n",
    "response = rq.get(url)\n",
    "if response:\n",
    "    print('Success!')\n",
    "else:\n",
    "    print('An error has occurred.')"
   ]
  },
  {
   "cell_type": "markdown",
   "metadata": {},
   "source": [
    "Install beautifulsoup4 and html5lib for parsing html"
   ]
  },
  {
   "cell_type": "code",
   "execution_count": 5,
   "metadata": {},
   "outputs": [
    {
     "name": "stdout",
     "output_type": "stream",
     "text": [
      "Requirement already satisfied: BeautifulSoup4 in c:\\users\\cntt\\appdata\\local\\programs\\python\\python38-32\\lib\\site-packages (4.8.2)\n",
      "Requirement already satisfied: soupsieve>=1.2 in c:\\users\\cntt\\appdata\\local\\programs\\python\\python38-32\\lib\\site-packages (from BeautifulSoup4) (1.9.5)\n",
      "Requirement already satisfied: html5lib in c:\\users\\cntt\\appdata\\local\\programs\\python\\python38-32\\lib\\site-packages (1.0.1)\n",
      "Requirement already satisfied: webencodings in c:\\users\\cntt\\appdata\\local\\programs\\python\\python38-32\\lib\\site-packages (from html5lib) (0.5.1)\n",
      "Requirement already satisfied: six>=1.9 in c:\\users\\cntt\\appdata\\local\\programs\\python\\python38-32\\lib\\site-packages (from html5lib) (1.14.0)\n"
     ]
    }
   ],
   "source": [
    "!{sys.executable} -m pip install BeautifulSoup4\n",
    "!{sys.executable} -m pip install html5lib"
   ]
  },
  {
   "cell_type": "code",
   "execution_count": 46,
   "metadata": {},
   "outputs": [],
   "source": [
    "from bs4 import BeautifulSoup\n",
    "import re"
   ]
  },
  {
   "cell_type": "code",
   "execution_count": 60,
   "metadata": {},
   "outputs": [],
   "source": [
    "#Getting content\n",
    "def getContent(url):\n",
    "    result = \"\"\n",
    "    response = rq.get(url)\n",
    "    if(response):\n",
    "        resHtml = BeautifulSoup(response.content, 'html5lib') \n",
    "        content = resHtml.find_all('section', class_ = 'sidebar_1')\n",
    "        if(len(content) == 0):\n",
    "            return \"No content\"\n",
    "        paragr = content[0].find_all('p', class_ = re.compile(\"Normal|description\"))\n",
    "        for cktext in paragr:\n",
    "            result += cktext.text\n",
    "        return result\n",
    "    else:\n",
    "        return \"Fail to connect\""
   ]
  },
  {
   "cell_type": "code",
   "execution_count": 63,
   "metadata": {},
   "outputs": [
    {
     "name": "stdout",
     "output_type": "stream",
     "text": [
      "Giúp con hình thành thói quen đúng giờ\n"
     ]
    }
   ],
   "source": [
    "soup = BeautifulSoup(response.content, 'html5lib') \n",
    "soup = soup.find('body')\n",
    "#print(soup)\n",
    "soup_new = soup.find_all(class_=\"title_news\")\n",
    "get_link = soup_new[0].find_all('a', limit = 1);\n",
    "\n",
    "#print(get_link[0]['title'])\n",
    "#print(getContent(get_link[0]['href']))"
   ]
  },
  {
   "cell_type": "code",
   "execution_count": null,
   "metadata": {},
   "outputs": [],
   "source": []
  },
  {
   "cell_type": "code",
   "execution_count": null,
   "metadata": {},
   "outputs": [],
   "source": []
  }
 ],
 "metadata": {
  "celltoolbar": "Raw Cell Format",
  "kernelspec": {
   "display_name": "Python 3",
   "language": "python",
   "name": "python3"
  },
  "language_info": {
   "codemirror_mode": {
    "name": "ipython",
    "version": 3
   },
   "file_extension": ".py",
   "mimetype": "text/x-python",
   "name": "python",
   "nbconvert_exporter": "python",
   "pygments_lexer": "ipython3",
   "version": "3.8.1"
  }
 },
 "nbformat": 4,
 "nbformat_minor": 4
}
