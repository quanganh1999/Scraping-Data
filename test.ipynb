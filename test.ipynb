{
 "cells": [
  {
   "cell_type": "code",
   "execution_count": 1,
   "metadata": {},
   "outputs": [],
   "source": [
    "import sys"
   ]
  },
  {
   "cell_type": "markdown",
   "metadata": {},
   "source": [
    "Import pandas for using data"
   ]
  },
  {
   "cell_type": "code",
   "execution_count": 2,
   "metadata": {},
   "outputs": [
    {
     "name": "stdout",
     "output_type": "stream",
     "text": [
      "Requirement already satisfied: pandas in c:\\users\\cntt\\appdata\\local\\programs\\python\\python38-32\\lib\\site-packages (1.0.0)\n",
      "Requirement already satisfied: python-dateutil>=2.6.1 in c:\\users\\cntt\\appdata\\local\\programs\\python\\python38-32\\lib\\site-packages (from pandas) (2.8.1)\n",
      "Requirement already satisfied: pytz>=2017.2 in c:\\users\\cntt\\appdata\\local\\programs\\python\\python38-32\\lib\\site-packages (from pandas) (2019.3)\n",
      "Requirement already satisfied: numpy>=1.13.3 in c:\\users\\cntt\\appdata\\local\\programs\\python\\python38-32\\lib\\site-packages (from pandas) (1.18.1)\n",
      "Requirement already satisfied: six>=1.5 in c:\\users\\cntt\\appdata\\local\\programs\\python\\python38-32\\lib\\site-packages (from python-dateutil>=2.6.1->pandas) (1.14.0)\n"
     ]
    }
   ],
   "source": [
    "!{sys.executable} -m pip install pandas"
   ]
  },
  {
   "cell_type": "markdown",
   "metadata": {},
   "source": [
    "Install requests for interacting with web sever"
   ]
  },
  {
   "cell_type": "code",
   "execution_count": 3,
   "metadata": {},
   "outputs": [
    {
     "name": "stdout",
     "output_type": "stream",
     "text": [
      "Collecting request\n",
      "  Downloading request-2019.4.13.tar.gz (1.3 kB)\n",
      "Collecting get\n",
      "  Downloading get-2019.4.13.tar.gz (1.3 kB)\n",
      "Collecting post\n",
      "  Downloading post-2019.4.13.tar.gz (1.3 kB)\n",
      "Requirement already satisfied: setuptools in c:\\users\\cntt\\appdata\\local\\programs\\python\\python38-32\\lib\\site-packages (from request) (45.1.0)\n",
      "Collecting query_string\n",
      "  Downloading query-string-2019.4.13.tar.gz (1.6 kB)\n",
      "Collecting public\n",
      "  Downloading public-2019.4.13.tar.gz (2.3 kB)\n",
      "Installing collected packages: public, query-string, get, post, request\n",
      "    Running setup.py install for public: started\n",
      "    Running setup.py install for public: finished with status 'done'\n",
      "    Running setup.py install for query-string: started\n",
      "    Running setup.py install for query-string: finished with status 'done'\n",
      "    Running setup.py install for get: started\n",
      "    Running setup.py install for get: finished with status 'done'\n",
      "    Running setup.py install for post: started\n",
      "    Running setup.py install for post: finished with status 'done'\n",
      "    Running setup.py install for request: started\n",
      "    Running setup.py install for request: finished with status 'done'\n",
      "Successfully installed get-2019.4.13 post-2019.4.13 public-2019.4.13 query-string-2019.4.13 request-2019.4.13\n"
     ]
    }
   ],
   "source": [
    "!{sys.executable} -m pip install request"
   ]
  },
  {
   "cell_type": "markdown",
   "metadata": {},
   "source": [
    "Test requests"
   ]
  },
  {
   "cell_type": "code",
   "execution_count": 4,
   "metadata": {},
   "outputs": [
    {
     "name": "stdout",
     "output_type": "stream",
     "text": [
      "Success!\n"
     ]
    }
   ],
   "source": [
    "import requests as rq\n",
    "url = \"https://vnexpress.net/tin-tuc/giao-duc\"\n",
    "response = rq.get(url)\n",
    "if response:\n",
    "    print('Success!')\n",
    "else:\n",
    "    print('An error has occurred.')"
   ]
  },
  {
   "cell_type": "markdown",
   "metadata": {},
   "source": [
    "Install beautifulsoup4 and html5lib for parsing html"
   ]
  },
  {
   "cell_type": "code",
   "execution_count": 5,
   "metadata": {},
   "outputs": [
    {
     "name": "stdout",
     "output_type": "stream",
     "text": [
      "Requirement already satisfied: BeautifulSoup4 in c:\\users\\cntt\\appdata\\local\\programs\\python\\python38-32\\lib\\site-packages (4.8.2)\n",
      "Requirement already satisfied: soupsieve>=1.2 in c:\\users\\cntt\\appdata\\local\\programs\\python\\python38-32\\lib\\site-packages (from BeautifulSoup4) (1.9.5)\n",
      "Requirement already satisfied: html5lib in c:\\users\\cntt\\appdata\\local\\programs\\python\\python38-32\\lib\\site-packages (1.0.1)\n",
      "Requirement already satisfied: webencodings in c:\\users\\cntt\\appdata\\local\\programs\\python\\python38-32\\lib\\site-packages (from html5lib) (0.5.1)\n",
      "Requirement already satisfied: six>=1.9 in c:\\users\\cntt\\appdata\\local\\programs\\python\\python38-32\\lib\\site-packages (from html5lib) (1.14.0)\n"
     ]
    }
   ],
   "source": [
    "!{sys.executable} -m pip install BeautifulSoup4\n",
    "!{sys.executable} -m pip install html5lib"
   ]
  },
  {
   "cell_type": "code",
   "execution_count": 15,
   "metadata": {},
   "outputs": [
    {
     "name": "stdout",
     "output_type": "stream",
     "text": [
      "None\n"
     ]
    }
   ],
   "source": [
    "from bs4 import BeautifulSoup \n",
    "soup = BeautifulSoup(response.content, 'html5lib') \n",
    "soup = soup.find('body')\n",
    "soup = BeautifulSoup()\n",
    "name_box = soup.find('section', attrs={'class': 'container'})\n",
    "print (name_box)\n",
    "#soup_new = soup.find_all('section', class_='container')"
   ]
  },
  {
   "cell_type": "code",
   "execution_count": null,
   "metadata": {},
   "outputs": [],
   "source": []
  },
  {
   "cell_type": "code",
   "execution_count": null,
   "metadata": {},
   "outputs": [],
   "source": []
  }
 ],
 "metadata": {
  "celltoolbar": "Raw Cell Format",
  "kernelspec": {
   "display_name": "Python 3",
   "language": "python",
   "name": "python3"
  },
  "language_info": {
   "codemirror_mode": {
    "name": "ipython",
    "version": 3
   },
   "file_extension": ".py",
   "mimetype": "text/x-python",
   "name": "python",
   "nbconvert_exporter": "python",
   "pygments_lexer": "ipython3",
   "version": "3.8.1"
  }
 },
 "nbformat": 4,
 "nbformat_minor": 4
}
